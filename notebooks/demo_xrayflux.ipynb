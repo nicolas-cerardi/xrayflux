{
 "cells": [
  {
   "cell_type": "code",
   "execution_count": 1,
   "id": "0d75d209-ecf0-403c-abce-0f9efd4dc3d4",
   "metadata": {},
   "outputs": [
    {
     "name": "stdout",
     "output_type": "stream",
     "text": [
      "%pylab is deprecated, use %matplotlib inline and import the required libraries.\n",
      "Populating the interactive namespace from numpy and matplotlib\n"
     ]
    }
   ],
   "source": [
    "import numpy as np\n",
    "import pyatomdb\n",
    "import scipy\n",
    "import xrayflux\n",
    "from xrayflux.xraytables import compute_flux, make_fluxtable\n",
    "\n",
    "%pylab inline"
   ]
  },
  {
   "cell_type": "markdown",
   "id": "ac771d09",
   "metadata": {},
   "source": [
    "## DEMO XRAYFLUX\n",
    "#### 1. Compute a flux"
   ]
  },
  {
   "cell_type": "code",
   "execution_count": 2,
   "id": "c9788b79",
   "metadata": {},
   "outputs": [
    {
     "name": "stdout",
     "output_type": "stream",
     "text": [
      "2.672476983729378e-15 ph cm^3 s-1\n"
     ]
    }
   ],
   "source": [
    "# Define the energy range, the temperature, the redshift.\n",
    "T = 5 #in keV\n",
    "z = 0.\n",
    "\n",
    "# compute a flux for a given redshift, Temperature.\n",
    "flux = compute_flux(T=T, z=z)\n",
    "print(flux, \"ph cm^3 s-1\")\n",
    "# The result has then to be multiplied by ne * np * Volume / distance * collecting_area\n",
    "# Only H and He are considered by default, with Z(H) = 1 Zsolar and Z(He) = 0.3 Zsolar.\n",
    "# By default, eebrems is off.\n",
    "# The default energy band is 0.5 - 2 keV"
   ]
  },
  {
   "cell_type": "markdown",
   "id": "46125380",
   "metadata": {},
   "source": [
    "#### 2. Compute a flux table"
   ]
  },
  {
   "cell_type": "code",
   "execution_count": 3,
   "id": "61b0b166",
   "metadata": {},
   "outputs": [
    {
     "name": "stderr",
     "output_type": "stream",
     "text": [
      "100%|█████████████████████████████████████████████| 2500/2500 [00:06<00:00, 405.67it/s]\n"
     ]
    },
    {
     "data": {
      "text/plain": [
       "<matplotlib.colorbar.Colorbar at 0x16b757640>"
      ]
     },
     "execution_count": 3,
     "metadata": {},
     "output_type": "execute_result"
    },
    {
     "data": {
      "image/png": "[encoded data removed]",
      "text/plain": [
       "<Figure size 432x288 with 2 Axes>"
      ]
     },
     "metadata": {
      "needs_background": "light"
     },
     "output_type": "display_data"
    }
   ],
   "source": [
    "# define the present elements, elemental abundancies, and starting indexe.\n",
    "abund = 0.3\n",
    "idx_start_abund = 1      # this means that all elements from atomic number 1 are concerned by abund\n",
    "elements = [1, 2, 6, 26] # include carbon and iron for instance\n",
    "\n",
    "# If metals are included, the energy binning should be refined to resolve emission lines\n",
    "res, zbins, Tbins, elements, abres = make_fluxtable(outfile=None,\n",
    "             range_E=[0.5, 2.0], n_E=200, \n",
    "             range_T=[0.1, 5.], n_T=50, \n",
    "             range_z=[0.5, 1.], n_z=50, \n",
    "             abund=0.3, idx_start_abund=1,\n",
    "             elements=elements)\n",
    "xticks(ticks=range(0,Tbins.size,10),labels=['%.2f'%T for T in Tbins[::10]])\n",
    "yticks(ticks=range(0,zbins.size,10),labels=['%.2f'%z for z in zbins[::10]])\n",
    "ylabel('Redshift')\n",
    "xlabel('Temperature (keV)')\n",
    "title(r'photon flux $(ph\\ cm^{3}\\ s^{-1})$')\n",
    "imshow(res)\n",
    "colorbar()\n",
    "# At energies ~1keV, emission lines from metals boost the integrated flux. \n",
    "# Without a RMF in input, the redshifting of metal lines induce jumps in the output flux."
   ]
  },
  {
   "cell_type": "code",
   "execution_count": null,
   "id": "02e22ac3",
   "metadata": {},
   "outputs": [
    {
     "name": "stderr",
     "output_type": "stream",
     "text": [
      " 98%|████████████████████████████████████████████▏| 2454/2500 [00:13<00:00, 204.19it/s]"
     ]
    }
   ],
   "source": [
    "# Now add RMF and ARF files\n",
    "res, zbins, Tbins, elements, abres = xrayflux.xraytables.make_fluxtable(outfile=None,\n",
    "             range_E=[0.5, 2.0], n_E=200, \n",
    "             range_T=[0.1, 5.], n_T=50, \n",
    "             range_z=[0.5, 1.], n_z=50, \n",
    "             abund=0.3, idx_start_abund=1,\n",
    "             elements=elements,\n",
    "             arf='pn-thin-5-ao20.arf',\n",
    "             rmf='pn-thin-5-ao20.rmf')\n",
    "xticks(ticks=range(0,Tbins.size,10),labels=['%.2f'%T for T in Tbins[::10]])\n",
    "yticks(ticks=range(0,zbins.size,10),labels=['%.2f'%z for z in zbins[::10]])\n",
    "ylabel('Redshift')\n",
    "xlabel('Temperature (keV)')\n",
    "title(r'photon flux $(ph\\ cm^{5}\\ s^{-1})$')\n",
    "imshow(res)\n",
    "colorbar()"
   ]
  },
  {
   "cell_type": "code",
   "execution_count": null,
   "id": "5f49dea6",
   "metadata": {},
   "outputs": [],
   "source": [
    "# set plots to True to visualise the spectra. In that case, reduce n_T and n_z.\n",
    "res, zbins, Tbins, elements, abres = xrayflux.xraytables.make_fluxtable(outfile=None,\n",
    "             range_E=[0.3, 4.0], n_E=600, \n",
    "             range_T=[0.2, 5.], n_T=5, \n",
    "             range_z=[0.1, .6], n_z=3, \n",
    "             abund=.3, idx_start_abund=1,\n",
    "             elements=elements,\n",
    "             arf='pn-thin-5-ao20.arf',\n",
    "             rmf='pn-thin-5-ao20.rmf',\n",
    "             plots=True)"
   ]
  }
 ],
 "metadata": {
  "kernelspec": {
   "display_name": "Python 3 (ipykernel)",
   "language": "python",
   "name": "python3"
  },
  "language_info": {
   "codemirror_mode": {
    "name": "ipython",
    "version": 3
   },
   "file_extension": ".py",
   "mimetype": "text/x-python",
   "name": "python",
   "nbconvert_exporter": "python",
   "pygments_lexer": "ipython3",
   "version": "3.10.1"
  }
 },
 "nbformat": 4,
 "nbformat_minor": 5
}
